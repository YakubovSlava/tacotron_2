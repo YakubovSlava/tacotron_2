{
 "cells": [
  {
   "cell_type": "code",
   "execution_count": 1,
   "metadata": {},
   "outputs": [],
   "source": [
    "from utils.utils import TacotronPreprocessor, TTSDataset, collate_fn, reconstruct_audio\n",
    "import pandas as pd\n",
    "import numpy as np\n",
    "import re\n",
    "import torch\n",
    "import torchaudio\n",
    "import torchaudio.functional as F\n",
    "from torch.utils.data import Dataset, DataLoader\n",
    "from torchaudio import transforms\n",
    "from torchaudio.functional import preemphasis\n",
    "import hyperparams as hps\n",
    "from torch.autograd import Variable\n",
    "from tqdm import tqdm_notebook as tqdm\n",
    "from torch.utils.tensorboard import SummaryWriter\n",
    "from IPython import display\n",
    "import matplotlib.pyplot as plt\n",
    "from torch.cuda.amp import GradScaler\n",
    "from torch import autocast\n",
    "import torchvision.transforms as T"
   ]
  },
  {
   "cell_type": "code",
   "execution_count": 2,
   "metadata": {},
   "outputs": [],
   "source": [
    "import torch \n",
    "from torch import nn"
   ]
  },
  {
   "cell_type": "code",
   "execution_count": 3,
   "metadata": {},
   "outputs": [],
   "source": [
    "### Model"
   ]
  },
  {
   "cell_type": "code",
   "execution_count": 4,
   "metadata": {},
   "outputs": [],
   "source": [
    "class EncoderConvLayer(nn.Module):\n",
    "    def __init__(self, input_channels, output_channels, kernel_size) -> None:\n",
    "        super().__init__()\n",
    "        self.module = nn.Sequential(\n",
    "            nn.Conv1d(in_channels=input_channels, out_channels=output_channels, kernel_size=kernel_size, bias=False, padding=2, dilation=1),\n",
    "            nn.BatchNorm1d(output_channels),\n",
    "            nn.ReLU(),\n",
    "            nn.Dropout(0.5)\n",
    "        )\n",
    "    def forward(self, x):\n",
    "        return self.module(x)"
   ]
  },
  {
   "cell_type": "code",
   "execution_count": 5,
   "metadata": {},
   "outputs": [],
   "source": [
    "class Encoder(nn.Module):\n",
    "    def __init__(self, characters_num, embedding_size, lstm_hidden_size) -> None:\n",
    "        super().__init__()\n",
    "        self.char_embedding = nn.Embedding(characters_num, embedding_size)\n",
    "        self.conv_layers = nn.Sequential(\n",
    "            EncoderConvLayer(embedding_size, embedding_size, 5),\n",
    "            EncoderConvLayer(embedding_size, embedding_size, 5),\n",
    "            EncoderConvLayer(embedding_size, embedding_size, 5),\n",
    "        )\n",
    "        self.rnn = nn.LSTM(input_size=embedding_size,\n",
    "                           hidden_size=lstm_hidden_size,\n",
    "                           bidirectional=True, batch_first=True)\n",
    "        self.rnn_dropout = nn.Dropout(0.1)\n",
    "\n",
    "    \n",
    "    def forward(self, x: torch.tensor, mask_idx=None):\n",
    "        \"\"\"\n",
    "        На вход подается последовательность символов. Размерность [BATCH_SIZE, NUM_CHARACTERS]\n",
    "        \"\"\"\n",
    "        x = self.char_embedding(x)  #[BATCH_SIZE, NUM_CHARACTERS, EMB_SIZE]\n",
    "        x = x.transpose(1,2) #[BATCH_SIZE, EMB_SIZE, NUM_CHARACTERS]\n",
    "        x = self.conv_layers(x)\n",
    "        x = x.transpose(1,2) #[BATCH_SIZE, NUM_CHARACTERS, CONV_EMB]\n",
    "\n",
    "        if mask_idx is not None:\n",
    "            x = nn.utils.rnn.pack_padded_sequence(x, mask_idx, batch_first=True, enforce_sorted=False)   \n",
    "        x = self.rnn(x)[0]\n",
    "        if mask_idx is not None:   \n",
    "            x, _ = nn.utils.rnn.pad_packed_sequence(x, batch_first=True)\n",
    "        x = self.rnn_dropout(x)\n",
    "        return x"
   ]
  },
  {
   "cell_type": "code",
   "execution_count": 6,
   "metadata": {},
   "outputs": [],
   "source": [
    "class PreNet(nn.Module):\n",
    "    def __init__(self, num_mels, prenet_hidden_dim) -> None:\n",
    "        super().__init__()\n",
    "        self.module = nn.Sequential(\n",
    "            nn.Linear(num_mels, prenet_hidden_dim),\n",
    "            nn.ReLU(),\n",
    "            nn.Dropout(0.5),\n",
    "            nn.Linear(prenet_hidden_dim, prenet_hidden_dim),\n",
    "            nn.ReLU(),\n",
    "            nn.Dropout(0.5)\n",
    "        )\n",
    "    def forward(self, x):\n",
    "        x = self.module(x)\n",
    "        return x\n",
    "        "
   ]
  },
  {
   "cell_type": "code",
   "execution_count": 7,
   "metadata": {},
   "outputs": [],
   "source": [
    "### Самая сложная часть модели\n",
    "class Tacotron2Attention(nn.Module):\n",
    "    def __init__(self) -> None:\n",
    "        super().__init__()\n",
    "\n",
    "        self.location = nn.Conv1d(in_channels=1, out_channels=hps.ATTENTION_LOCATION_FILTERS, \n",
    "                                  kernel_size=hps.ATTENTION_LOCATION_KERNEL_SIZE, dilation=1, padding=((hps.ATTENTION_LOCATION_KERNEL_SIZE-1)//2), bias=False)\n",
    "        self.location_linear = nn.Linear(hps.ATTENTION_LOCATION_FILTERS, hps.ATTENTION_DIM, bias=False)\n",
    "        self.rnn_hs_linear = nn.Linear(hps.DECODER_RNN_HIDDEN_DIM * 2, hps.ATTENTION_DIM, bias=False)\n",
    "\n",
    "        self.alignments_linear = nn.Linear(hps.ATTENTION_DIM, 1, bias=False)\n",
    "        self.softmax = nn.Softmax(dim=1)\n",
    "        self.dropout = nn.Dropout(0.5)\n",
    "\n",
    "    def forward(self, rnn_hs, encoder_output, processed_encoder_output, location_attention, mask=None):\n",
    "        \"\"\"\n",
    "         На вход подсчета аттеншна передаются:\n",
    "            - Накопленная информация из РНН \n",
    "            - Выход энкодера (BS, seq_len, 2*encoder_lstm_dim)\n",
    "            - Прогнанный через линейный слой энкодер (чтобы не дублить операцию)\n",
    "            - commulative-attention (BS, 1, seq_len)\n",
    "        \"\"\"\n",
    "\n",
    "        ### Location attention\n",
    "        #   Логика:\n",
    "        #   Входящий вектор на каждую букву прогоняем через свертку таким образом, чтобы у нас на каждую букву было 32 значения, которые будут говорить о том, что данная буква уже встретилась в выданном аудио\n",
    "        location_attention = location_attention.transpose(1,2) # [BS, seq_len, 1]\n",
    "        location_attention = self.location(location_attention) # [BS, seq_len, Location_attention_filters]\n",
    "        location_attention = self.dropout(location_attention)\n",
    "        location_attention = location_attention.transpose(1,2) # [BS, seq_len, Location_attention_filters]\n",
    "        location_attention = self.location_linear(location_attention) # [BS, seq_len, attention_dim]\n",
    "\n",
    "        rnn_hs = torch.cat((rnn_hs[0], rnn_hs[1]), 1) # [BS, 2 * DECODER_RNN_HIDDEN_DIM]\n",
    "        rnn_hs = rnn_hs.unsqueeze(1) # [BS, 1, 2 * DECODER_RNN_HIDDEN_DIM]\n",
    "        rnn_hs = self.rnn_hs_linear(rnn_hs) # [BS, 1, Attention_dim]\n",
    "        alignments = nn.functional.tanh(rnn_hs + location_attention + processed_encoder_output) # (BS, seq_len, Attention_dim)\n",
    "        alignments = self.alignments_linear(alignments) # (BS, seq_len, 1)\n",
    "\n",
    "\n",
    "        if mask is not None:\n",
    "            alignments.data.masked_fill_(~mask.unsqueeze(-1), -torch.inf)\n",
    "        alignments = self.softmax(alignments) # (BS, seq_len, 1)\n",
    "\n",
    "        attention_score = (encoder_output.transpose(1, 2) @ alignments).transpose(1, 2)\n",
    "\n",
    "        \n",
    "\n",
    "        \n",
    "        return  attention_score, alignments\n",
    "\n"
   ]
  },
  {
   "cell_type": "code",
   "execution_count": 8,
   "metadata": {},
   "outputs": [],
   "source": [
    "class DecoderPostNetConv(nn.Module):\n",
    "    def __init__(self, in_kernels, out_kernels, last_layer=False) -> None:\n",
    "        super().__init__()\n",
    "        self.last_layer = last_layer\n",
    "        self.post_net = nn.Sequential(\n",
    "            nn.Conv1d(in_kernels, out_kernels, hps.POSTNET_KERNEL_SIZE, padding=2, bias=False, dilation=1),\n",
    "            nn.BatchNorm1d(hps.POSTNET_NUM_FILTERS),\n",
    "            nn.Identity() if last_layer else nn.Tanh(),\n",
    "            nn.Dropout(0.5),\n",
    "        )\n",
    "    def forward(self, x):\n",
    "        return self.post_net(x)"
   ]
  },
  {
   "cell_type": "code",
   "execution_count": 9,
   "metadata": {},
   "outputs": [],
   "source": [
    "class Decoder(nn.Module):\n",
    "    def __init__(self) -> None:\n",
    "        super().__init__()\n",
    "        self.prenet = PreNet(hps.N_MEL_FILTERBANKS, hps.PRENET_HIDDEN_SIZE)\n",
    "        self.encoder_linear = nn.Linear(hps.LSTM_HIDDEN_SIZE * 2, hps.ATTENTION_DIM)\n",
    "        self.decoder_rnn = nn.LSTM(input_size=hps.PRENET_HIDDEN_SIZE + hps.CHARACTER_EMB_SIZE, \n",
    "                                   hidden_size=hps.DECODER_RNN_HIDDEN_DIM, batch_first=True, num_layers=2)\n",
    "        self.attention = Tacotron2Attention()\n",
    "        self.linear_projection = nn.Linear(hps.DECODER_RNN_HIDDEN_DIM + hps.CHARACTER_EMB_SIZE, hps.N_MEL_FILTERBANKS)\n",
    "        self.stop_projection = nn.Linear(hps.DECODER_RNN_HIDDEN_DIM + hps.CHARACTER_EMB_SIZE, 1)\n",
    "\n",
    "        self.post_net = nn.Sequential(\n",
    "            DecoderPostNetConv(hps.N_MEL_FILTERBANKS, hps.POSTNET_NUM_FILTERS, hps.POSTNET_NUM_FILTERS),\n",
    "            DecoderPostNetConv(hps.POSTNET_NUM_FILTERS, hps.POSTNET_NUM_FILTERS),\n",
    "            DecoderPostNetConv(hps.POSTNET_NUM_FILTERS, hps.POSTNET_NUM_FILTERS),\n",
    "            DecoderPostNetConv(hps.POSTNET_NUM_FILTERS, hps.POSTNET_NUM_FILTERS),\n",
    "            DecoderPostNetConv(hps.POSTNET_NUM_FILTERS, hps.POSTNET_NUM_FILTERS, last_layer=True)\n",
    "        )\n",
    "        self.post_linear = nn.Linear(hps.POSTNET_NUM_FILTERS, hps.N_MEL_FILTERBANKS)\n",
    "        self.dropout = nn.Dropout(0.1)\n",
    "\n",
    "        \n",
    "    \n",
    "    def forward(self, mels, encoder_output, mask):\n",
    "        mels = mels.transpose(1,2)\n",
    "        mels = self.prenet(mels)\n",
    "        processed_encoder = self.encoder_linear(encoder_output)\n",
    "\n",
    "\n",
    "        next_h = torch.zeros(2, mels.shape[0], hps.DECODER_RNN_HIDDEN_DIM, device=mels.device)\n",
    "        next_c = torch.zeros(2, mels.shape[0], hps.DECODER_RNN_HIDDEN_DIM, device=mels.device)\n",
    "\n",
    "        mel_predictions = []\n",
    "        stop_tokens = []\n",
    "        curr_attention_context = torch.zeros(encoder_output.shape[0], 1, hps.CHARACTER_EMB_SIZE, device=mels.device)\n",
    "        cummulated_attention = torch.zeros(encoder_output.shape[0], encoder_output.shape[1], 1, device=mels.device)\n",
    "\n",
    "        next_h.requires_grad = True\n",
    "        next_c.requires_grad = True\n",
    "        curr_attention_context.requires_grad = True\n",
    "        cummulated_attention.requires_grad = True\n",
    "\n",
    "\n",
    "\n",
    "\n",
    "        for i in range(mels.shape[1]):\n",
    "            curr_mel = mels[:, i, :].unsqueeze(1)\n",
    "            curr_rnn_input = torch.cat((curr_mel, curr_attention_context), dim=-1)\n",
    "            next_mel, (next_h, next_c) = self.decoder_rnn(curr_rnn_input, (next_h, next_c))\n",
    "            next_mel = self.dropout(next_mel)\n",
    "            curr_attention_context, alignments = self.attention(next_h, encoder_output, processed_encoder, cummulated_attention, mask)\n",
    "            cummulated_attention = cummulated_attention + alignments\n",
    "            next_mel_inp = torch.cat((next_mel, curr_attention_context), dim=2)\n",
    "            next_mel = self.linear_projection(next_mel_inp)\n",
    "            next_stop = self.stop_projection(next_mel_inp).squeeze(1)\n",
    "            mel_predictions.append(next_mel)\n",
    "            stop_tokens.append(next_stop)\n",
    "\n",
    "        result_mel = torch.cat(mel_predictions, dim=1)\n",
    "        result_stops = torch.cat(stop_tokens, dim=1)\n",
    "        result_mel = result_mel.transpose(1, 2)\n",
    "        result_mel_post = self.post_net(result_mel)\n",
    "        result_mel_post = result_mel_post.transpose(1,2)\n",
    "        result_mel_post = self.post_linear(result_mel_post)\n",
    "        result_mel_post = result_mel_post.transpose(1,2)\n",
    "        result_mel_post = result_mel + result_mel_post\n",
    "        \n",
    "        \n",
    "        return result_mel, result_mel_post, result_stops\n",
    "    \n",
    "    def predict(self, encoder_output):\n",
    "        mels = torch.log(torch.clamp(torch.zeros(encoder_output.shape[0], 1, hps.N_MEL_FILTERBANKS, device=encoder_output.device), hps.CLIPMIN))\n",
    "        mels = self.prenet(mels)\n",
    "        processed_encoder = self.encoder_linear(encoder_output)\n",
    "\n",
    "\n",
    "        next_h = torch.zeros(2, mels.shape[0], hps.DECODER_RNN_HIDDEN_DIM, device=mels.device)\n",
    "        next_c = torch.zeros(2, mels.shape[0], hps.DECODER_RNN_HIDDEN_DIM, device=mels.device)\n",
    "\n",
    "        mel_predictions = []\n",
    "        mel_predictions_post = []\n",
    "        stop_tokens = []\n",
    "        attentions = []\n",
    "\n",
    "        curr_attention_context = torch.zeros(encoder_output.shape[0], 1, hps.CHARACTER_EMB_SIZE, device=mels.device)\n",
    "        cummulated_attention = torch.zeros(encoder_output.shape[0], encoder_output.shape[1], 1, device=mels.device)\n",
    "\n",
    "        next_h.requires_grad = True\n",
    "        next_c.requires_grad = True\n",
    "        curr_attention_context.requires_grad = True\n",
    "        cummulated_attention.requires_grad = True\n",
    "\n",
    "\n",
    "        for i in range(500):\n",
    "            curr_mel = mels\n",
    "            curr_rnn_input = torch.cat((curr_mel, curr_attention_context), dim=-1)\n",
    "            next_mel, (next_h, next_c) = self.decoder_rnn(curr_rnn_input, (next_h, next_c))\n",
    "            curr_attention_context, alignments = self.attention(next_h, encoder_output, processed_encoder, cummulated_attention)\n",
    "            cummulated_attention = cummulated_attention + alignments\n",
    "            next_mel_inp = torch.cat((next_mel, curr_attention_context), dim=2)\n",
    "            next_mel = self.linear_projection(next_mel_inp)\n",
    "\n",
    "            next_mel_post = self.post_net(next_mel.transpose(1,2)).transpose(1,2)\n",
    "            next_mel_post = self.post_linear(next_mel_post)\n",
    "            next_mel_post = next_mel_post + next_mel\n",
    "            mels = self.prenet(next_mel_post)\n",
    "\n",
    "            next_stop = self.stop_projection(next_mel_inp).squeeze(1)\n",
    "            mel_predictions.append(next_mel)\n",
    "            mel_predictions_post.append(next_mel_post)\n",
    "            stop_tokens.append(next_stop)\n",
    "            attentions.append(alignments)\n",
    "\n",
    "\n",
    "        \n",
    "        attention = torch.cat(attentions, dim=0)\n",
    "        result_mel = torch.cat(mel_predictions, dim=1)\n",
    "        result_mel_post = torch.cat(mel_predictions_post, dim=1)\n",
    "        result_stops = torch.cat(stop_tokens, dim=1)\n",
    "\n",
    "        return result_mel_post.transpose(1,2), result_stops, attention"
   ]
  },
  {
   "cell_type": "code",
   "execution_count": 10,
   "metadata": {},
   "outputs": [],
   "source": [
    "class Tacotron2(nn.Module):\n",
    "    def __init__(self, characters_num: int = 0) -> None:\n",
    "        super().__init__()\n",
    "        self.characters_num = characters_num\n",
    "        self.encoder = Encoder(characters_num, hps.CHARACTER_EMB_SIZE, hps.LSTM_HIDDEN_SIZE)\n",
    "        self.decoder = Decoder()\n",
    "\n",
    "    def get_mask(self, mask_idx):\n",
    "        mask = torch.zeros(mask_idx.shape[0], max(mask_idx))\n",
    "        mask = ((torch.arange(0, max(mask_idx)).unsqueeze(1)<mask_idx)).transpose(0,1)\n",
    "        return mask\n",
    "\n",
    "    def forward(self, text, mels, mask_idx):\n",
    "        encoder_output = self.encoder(text, mask_idx)\n",
    "        mask = self.get_mask(mask_idx)\n",
    "        mask = mask.to(encoder_output.device)\n",
    "        decoder_output = self.decoder(mels, encoder_output, mask)\n",
    "        return decoder_output\n",
    "    \n",
    "    def predict(self, text):\n",
    "        encoder_output = self.encoder(text)\n",
    "        decoder_output = self.decoder.predict(encoder_output)\n",
    "        return decoder_output"
   ]
  },
  {
   "cell_type": "code",
   "execution_count": 11,
   "metadata": {},
   "outputs": [],
   "source": [
    "class Tacotron2Loss(nn.Module):\n",
    "    def __init__(self) -> None:\n",
    "        super().__init__()\n",
    "        self.mse_loss = nn.MSELoss()\n",
    "        self.bce_loss = nn.BCEWithLogitsLoss()\n",
    "    def forward(self, mel_true, mel_pred, mel_pred_post, stops, stops_pred):\n",
    "        mel_loss = self.mse_loss(mel_pred, mel_true) + self.mse_loss(mel_pred_post, mel_true)\n",
    "        stop_loss = self.bce_loss(stops_pred, stops)\n",
    "        return mel_loss + stop_loss"
   ]
  },
  {
   "cell_type": "code",
   "execution_count": 12,
   "metadata": {},
   "outputs": [],
   "source": [
    "BATCH_SIZE = 48\n",
    "dataset = TTSDataset()\n",
    "dataloader = DataLoader(dataset, BATCH_SIZE, collate_fn=collate_fn, shuffle=True,\n",
    "                         num_workers=4\n",
    "                         )\n",
    "DEVICE = 'cuda' if torch.cuda.is_available() else 'cpu'\n",
    "NUM_EPOCHS = 300\n",
    "vocab_size = dataset.preprocessor.vocab.shape[0] + 1\n",
    "loss = Tacotron2Loss()\n",
    "model = Tacotron2(vocab_size).to(DEVICE)\n",
    "model.load_state_dict(torch.load('model_saves_clip\\epoch_140_train_result'))\n",
    "optimizer = torch.optim.Adam(model.parameters(), lr = 1e-5, weight_decay=1e-6)\n",
    "scaler = GradScaler()\n",
    "# scheduler = torch.optim.lr_scheduler.ExponentialLR(optimizer, gamma = 0.5)\n",
    "writer = SummaryWriter()\n"
   ]
  },
  {
   "cell_type": "code",
   "execution_count": 13,
   "metadata": {},
   "outputs": [],
   "source": [
    "def code_text(text):\n",
    "    text = dataset.preprocessor.transform_single_text(text)\n",
    "    text = torch.tensor(text).unsqueeze(0)\n",
    "    return text"
   ]
  },
  {
   "cell_type": "code",
   "execution_count": 14,
   "metadata": {},
   "outputs": [
    {
     "name": "stderr",
     "output_type": "stream",
     "text": [
      "C:\\Users\\yakub\\AppData\\Local\\Temp\\ipykernel_284\\3003206409.py:5: TqdmDeprecationWarning: This function will be removed in tqdm==5.0.0\n",
      "Please use `tqdm.notebook.tqdm` instead of `tqdm.tqdm_notebook`\n",
      "  for text, mel, stop, mask_idx in tqdm(dataloader):\n"
     ]
    },
    {
     "data": {
      "application/vnd.jupyter.widget-view+json": {
       "model_id": "d723f1c15f65476eb2eb79d0b13f3042",
       "version_major": 2,
       "version_minor": 0
      },
      "text/plain": [
       "  0%|          | 0/339 [00:00<?, ?it/s]"
      ]
     },
     "metadata": {},
     "output_type": "display_data"
    },
    {
     "name": "stderr",
     "output_type": "stream",
     "text": [
      "C:\\Users\\yakub\\AppData\\Local\\Temp\\ipykernel_284\\3003206409.py:13: UserWarning: torch.nn.utils.clip_grad_norm is now deprecated in favor of torch.nn.utils.clip_grad_norm_.\n",
      "  nn.utils.clip_grad_norm(model.parameters(), 1.)\n"
     ]
    },
    {
     "data": {
      "application/vnd.jupyter.widget-view+json": {
       "model_id": "e8f678cd86ae42ddad0f5b5c98dd149f",
       "version_major": 2,
       "version_minor": 0
      },
      "text/plain": [
       "  0%|          | 0/339 [00:00<?, ?it/s]"
      ]
     },
     "metadata": {},
     "output_type": "display_data"
    },
    {
     "data": {
      "application/vnd.jupyter.widget-view+json": {
       "model_id": "17ce8e4adb0c4404a1ff41cb085b6f0e",
       "version_major": 2,
       "version_minor": 0
      },
      "text/plain": [
       "  0%|          | 0/339 [00:00<?, ?it/s]"
      ]
     },
     "metadata": {},
     "output_type": "display_data"
    },
    {
     "data": {
      "application/vnd.jupyter.widget-view+json": {
       "model_id": "5e60bcb61477475b850bfc575c15f995",
       "version_major": 2,
       "version_minor": 0
      },
      "text/plain": [
       "  0%|          | 0/339 [00:00<?, ?it/s]"
      ]
     },
     "metadata": {},
     "output_type": "display_data"
    },
    {
     "data": {
      "application/vnd.jupyter.widget-view+json": {
       "model_id": "cf308503355642aea217986c9912e0bb",
       "version_major": 2,
       "version_minor": 0
      },
      "text/plain": [
       "  0%|          | 0/339 [00:00<?, ?it/s]"
      ]
     },
     "metadata": {},
     "output_type": "display_data"
    },
    {
     "name": "stderr",
     "output_type": "stream",
     "text": [
      "d:\\mlp\\tacotron_2\\.venv\\lib\\site-packages\\torchvision\\transforms\\functional.py:1603: UserWarning: The default value of the antialias parameter of all the resizing transforms (Resize(), RandomResizedCrop(), etc.) will change from None to True in v0.17, in order to be consistent across the PIL and Tensor backends. To suppress this warning, directly pass antialias=True (recommended, future default), antialias=None (current default, which means False for Tensors and True for PIL), or antialias=False (only works on Tensors - PIL will still use antialiasing). This also applies if you are using the inference transforms from the models weights: update the call to weights.transforms(antialias=True).\n",
      "  warnings.warn(\n"
     ]
    },
    {
     "name": "stdout",
     "output_type": "stream",
     "text": [
      "entered\n",
      "inversed\n",
      "transformed\n"
     ]
    },
    {
     "data": {
      "application/vnd.jupyter.widget-view+json": {
       "model_id": "ac798cf605a7418a9b3f0cbbdf8e3671",
       "version_major": 2,
       "version_minor": 0
      },
      "text/plain": [
       "  0%|          | 0/339 [00:00<?, ?it/s]"
      ]
     },
     "metadata": {},
     "output_type": "display_data"
    },
    {
     "data": {
      "application/vnd.jupyter.widget-view+json": {
       "model_id": "5715dda2079440b78d16e44bdcffe9fe",
       "version_major": 2,
       "version_minor": 0
      },
      "text/plain": [
       "  0%|          | 0/339 [00:00<?, ?it/s]"
      ]
     },
     "metadata": {},
     "output_type": "display_data"
    },
    {
     "data": {
      "application/vnd.jupyter.widget-view+json": {
       "model_id": "fff271f1941146d990b8b526a6cca53f",
       "version_major": 2,
       "version_minor": 0
      },
      "text/plain": [
       "  0%|          | 0/339 [00:00<?, ?it/s]"
      ]
     },
     "metadata": {},
     "output_type": "display_data"
    },
    {
     "data": {
      "application/vnd.jupyter.widget-view+json": {
       "model_id": "64da879223314844837abbcd09a2fe36",
       "version_major": 2,
       "version_minor": 0
      },
      "text/plain": [
       "  0%|          | 0/339 [00:00<?, ?it/s]"
      ]
     },
     "metadata": {},
     "output_type": "display_data"
    },
    {
     "data": {
      "application/vnd.jupyter.widget-view+json": {
       "model_id": "a4ab1ed59b7844b2a17fbb626c3456f4",
       "version_major": 2,
       "version_minor": 0
      },
      "text/plain": [
       "  0%|          | 0/339 [00:00<?, ?it/s]"
      ]
     },
     "metadata": {},
     "output_type": "display_data"
    },
    {
     "name": "stdout",
     "output_type": "stream",
     "text": [
      "entered\n",
      "inversed\n",
      "transformed\n"
     ]
    },
    {
     "data": {
      "application/vnd.jupyter.widget-view+json": {
       "model_id": "1b10a0bff20c4febafdd09a5c233fe35",
       "version_major": 2,
       "version_minor": 0
      },
      "text/plain": [
       "  0%|          | 0/339 [00:00<?, ?it/s]"
      ]
     },
     "metadata": {},
     "output_type": "display_data"
    },
    {
     "data": {
      "application/vnd.jupyter.widget-view+json": {
       "model_id": "d42fdd3ea76143bfb2c36dd8c26f24e8",
       "version_major": 2,
       "version_minor": 0
      },
      "text/plain": [
       "  0%|          | 0/339 [00:00<?, ?it/s]"
      ]
     },
     "metadata": {},
     "output_type": "display_data"
    },
    {
     "data": {
      "application/vnd.jupyter.widget-view+json": {
       "model_id": "dc4e2c5b143c47ff9558424f28352d6a",
       "version_major": 2,
       "version_minor": 0
      },
      "text/plain": [
       "  0%|          | 0/339 [00:00<?, ?it/s]"
      ]
     },
     "metadata": {},
     "output_type": "display_data"
    },
    {
     "data": {
      "application/vnd.jupyter.widget-view+json": {
       "model_id": "ad83904101bc4a47b1b1ed8a1b917740",
       "version_major": 2,
       "version_minor": 0
      },
      "text/plain": [
       "  0%|          | 0/339 [00:00<?, ?it/s]"
      ]
     },
     "metadata": {},
     "output_type": "display_data"
    },
    {
     "data": {
      "application/vnd.jupyter.widget-view+json": {
       "model_id": "e1edb7085324404293dc8957e9a79cdc",
       "version_major": 2,
       "version_minor": 0
      },
      "text/plain": [
       "  0%|          | 0/339 [00:00<?, ?it/s]"
      ]
     },
     "metadata": {},
     "output_type": "display_data"
    },
    {
     "name": "stdout",
     "output_type": "stream",
     "text": [
      "entered\n",
      "inversed\n",
      "transformed\n"
     ]
    },
    {
     "data": {
      "application/vnd.jupyter.widget-view+json": {
       "model_id": "3f7a605108cb43a68fe5b4e84f2caea7",
       "version_major": 2,
       "version_minor": 0
      },
      "text/plain": [
       "  0%|          | 0/339 [00:00<?, ?it/s]"
      ]
     },
     "metadata": {},
     "output_type": "display_data"
    },
    {
     "data": {
      "application/vnd.jupyter.widget-view+json": {
       "model_id": "ffefeadecf744a648b6b184c02d3d430",
       "version_major": 2,
       "version_minor": 0
      },
      "text/plain": [
       "  0%|          | 0/339 [00:00<?, ?it/s]"
      ]
     },
     "metadata": {},
     "output_type": "display_data"
    },
    {
     "data": {
      "application/vnd.jupyter.widget-view+json": {
       "model_id": "00def90cc48f4f9aa5146cbfa8c6f860",
       "version_major": 2,
       "version_minor": 0
      },
      "text/plain": [
       "  0%|          | 0/339 [00:00<?, ?it/s]"
      ]
     },
     "metadata": {},
     "output_type": "display_data"
    },
    {
     "data": {
      "application/vnd.jupyter.widget-view+json": {
       "model_id": "0842b24e8fec4488a9b2f050ec42f8d4",
       "version_major": 2,
       "version_minor": 0
      },
      "text/plain": [
       "  0%|          | 0/339 [00:00<?, ?it/s]"
      ]
     },
     "metadata": {},
     "output_type": "display_data"
    },
    {
     "data": {
      "application/vnd.jupyter.widget-view+json": {
       "model_id": "e03ba88a2ae9478ea077abe183b0a258",
       "version_major": 2,
       "version_minor": 0
      },
      "text/plain": [
       "  0%|          | 0/339 [00:00<?, ?it/s]"
      ]
     },
     "metadata": {},
     "output_type": "display_data"
    },
    {
     "name": "stdout",
     "output_type": "stream",
     "text": [
      "entered\n",
      "inversed\n",
      "transformed\n"
     ]
    },
    {
     "data": {
      "application/vnd.jupyter.widget-view+json": {
       "model_id": "c9ba44c7716c40b9a4c33b54eb4b0064",
       "version_major": 2,
       "version_minor": 0
      },
      "text/plain": [
       "  0%|          | 0/339 [00:00<?, ?it/s]"
      ]
     },
     "metadata": {},
     "output_type": "display_data"
    },
    {
     "data": {
      "application/vnd.jupyter.widget-view+json": {
       "model_id": "76f480c26ac841898378c395d6a6a477",
       "version_major": 2,
       "version_minor": 0
      },
      "text/plain": [
       "  0%|          | 0/339 [00:00<?, ?it/s]"
      ]
     },
     "metadata": {},
     "output_type": "display_data"
    },
    {
     "data": {
      "application/vnd.jupyter.widget-view+json": {
       "model_id": "cfddb2ca59504148b5690cf1f00489a0",
       "version_major": 2,
       "version_minor": 0
      },
      "text/plain": [
       "  0%|          | 0/339 [00:00<?, ?it/s]"
      ]
     },
     "metadata": {},
     "output_type": "display_data"
    },
    {
     "data": {
      "application/vnd.jupyter.widget-view+json": {
       "model_id": "5b6e00fc9b4741148a310a7eb27890a0",
       "version_major": 2,
       "version_minor": 0
      },
      "text/plain": [
       "  0%|          | 0/339 [00:00<?, ?it/s]"
      ]
     },
     "metadata": {},
     "output_type": "display_data"
    },
    {
     "data": {
      "application/vnd.jupyter.widget-view+json": {
       "model_id": "be1b031554384f4f9dd8a9eeb218bebd",
       "version_major": 2,
       "version_minor": 0
      },
      "text/plain": [
       "  0%|          | 0/339 [00:00<?, ?it/s]"
      ]
     },
     "metadata": {},
     "output_type": "display_data"
    },
    {
     "name": "stdout",
     "output_type": "stream",
     "text": [
      "entered\n",
      "inversed\n",
      "transformed\n"
     ]
    },
    {
     "data": {
      "application/vnd.jupyter.widget-view+json": {
       "model_id": "19446db9d1f1420fa3fda66e33a74892",
       "version_major": 2,
       "version_minor": 0
      },
      "text/plain": [
       "  0%|          | 0/339 [00:00<?, ?it/s]"
      ]
     },
     "metadata": {},
     "output_type": "display_data"
    },
    {
     "data": {
      "application/vnd.jupyter.widget-view+json": {
       "model_id": "9213095931b7415d89a0af59e9db8eda",
       "version_major": 2,
       "version_minor": 0
      },
      "text/plain": [
       "  0%|          | 0/339 [00:00<?, ?it/s]"
      ]
     },
     "metadata": {},
     "output_type": "display_data"
    },
    {
     "data": {
      "application/vnd.jupyter.widget-view+json": {
       "model_id": "956bfa2ea51a42b4b052fd58e2b5b49f",
       "version_major": 2,
       "version_minor": 0
      },
      "text/plain": [
       "  0%|          | 0/339 [00:00<?, ?it/s]"
      ]
     },
     "metadata": {},
     "output_type": "display_data"
    },
    {
     "data": {
      "application/vnd.jupyter.widget-view+json": {
       "model_id": "af6c424c90f8462c8e14f1f46e3c33b5",
       "version_major": 2,
       "version_minor": 0
      },
      "text/plain": [
       "  0%|          | 0/339 [00:00<?, ?it/s]"
      ]
     },
     "metadata": {},
     "output_type": "display_data"
    },
    {
     "data": {
      "application/vnd.jupyter.widget-view+json": {
       "model_id": "45518dacf7c44e0abb78094ba2b06375",
       "version_major": 2,
       "version_minor": 0
      },
      "text/plain": [
       "  0%|          | 0/339 [00:00<?, ?it/s]"
      ]
     },
     "metadata": {},
     "output_type": "display_data"
    },
    {
     "name": "stdout",
     "output_type": "stream",
     "text": [
      "entered\n",
      "inversed\n",
      "transformed\n"
     ]
    },
    {
     "data": {
      "application/vnd.jupyter.widget-view+json": {
       "model_id": "75a52df56243495ba971e4aecc16deff",
       "version_major": 2,
       "version_minor": 0
      },
      "text/plain": [
       "  0%|          | 0/339 [00:00<?, ?it/s]"
      ]
     },
     "metadata": {},
     "output_type": "display_data"
    },
    {
     "data": {
      "application/vnd.jupyter.widget-view+json": {
       "model_id": "c795d746eda44a9a923e15187cd409f8",
       "version_major": 2,
       "version_minor": 0
      },
      "text/plain": [
       "  0%|          | 0/339 [00:00<?, ?it/s]"
      ]
     },
     "metadata": {},
     "output_type": "display_data"
    },
    {
     "data": {
      "application/vnd.jupyter.widget-view+json": {
       "model_id": "b6adc950f4644e5cb3e0d9cea020dcf3",
       "version_major": 2,
       "version_minor": 0
      },
      "text/plain": [
       "  0%|          | 0/339 [00:00<?, ?it/s]"
      ]
     },
     "metadata": {},
     "output_type": "display_data"
    },
    {
     "data": {
      "application/vnd.jupyter.widget-view+json": {
       "model_id": "ba7f99ed71b6456a863ced092b9f1814",
       "version_major": 2,
       "version_minor": 0
      },
      "text/plain": [
       "  0%|          | 0/339 [00:00<?, ?it/s]"
      ]
     },
     "metadata": {},
     "output_type": "display_data"
    },
    {
     "data": {
      "application/vnd.jupyter.widget-view+json": {
       "model_id": "a6c8652599de4bf091cce54641375314",
       "version_major": 2,
       "version_minor": 0
      },
      "text/plain": [
       "  0%|          | 0/339 [00:00<?, ?it/s]"
      ]
     },
     "metadata": {},
     "output_type": "display_data"
    },
    {
     "name": "stdout",
     "output_type": "stream",
     "text": [
      "entered\n",
      "inversed\n",
      "transformed\n"
     ]
    },
    {
     "data": {
      "application/vnd.jupyter.widget-view+json": {
       "model_id": "fd9046fb3caf44f2992ae5944ca52758",
       "version_major": 2,
       "version_minor": 0
      },
      "text/plain": [
       "  0%|          | 0/339 [00:00<?, ?it/s]"
      ]
     },
     "metadata": {},
     "output_type": "display_data"
    },
    {
     "data": {
      "application/vnd.jupyter.widget-view+json": {
       "model_id": "58a05a5da36647a58d29c5ca4f46d526",
       "version_major": 2,
       "version_minor": 0
      },
      "text/plain": [
       "  0%|          | 0/339 [00:00<?, ?it/s]"
      ]
     },
     "metadata": {},
     "output_type": "display_data"
    },
    {
     "data": {
      "application/vnd.jupyter.widget-view+json": {
       "model_id": "c52f53aa2b0545de872531aecc8f4d1e",
       "version_major": 2,
       "version_minor": 0
      },
      "text/plain": [
       "  0%|          | 0/339 [00:00<?, ?it/s]"
      ]
     },
     "metadata": {},
     "output_type": "display_data"
    },
    {
     "data": {
      "application/vnd.jupyter.widget-view+json": {
       "model_id": "14c71310820b4657bcab51f85aa42aa6",
       "version_major": 2,
       "version_minor": 0
      },
      "text/plain": [
       "  0%|          | 0/339 [00:00<?, ?it/s]"
      ]
     },
     "metadata": {},
     "output_type": "display_data"
    },
    {
     "data": {
      "application/vnd.jupyter.widget-view+json": {
       "model_id": "a4d07c4350634962846e41f1a624f86f",
       "version_major": 2,
       "version_minor": 0
      },
      "text/plain": [
       "  0%|          | 0/339 [00:00<?, ?it/s]"
      ]
     },
     "metadata": {},
     "output_type": "display_data"
    },
    {
     "name": "stdout",
     "output_type": "stream",
     "text": [
      "entered\n",
      "inversed\n",
      "transformed\n"
     ]
    },
    {
     "data": {
      "application/vnd.jupyter.widget-view+json": {
       "model_id": "384a653e30d94b69a0b5e474d733ad93",
       "version_major": 2,
       "version_minor": 0
      },
      "text/plain": [
       "  0%|          | 0/339 [00:00<?, ?it/s]"
      ]
     },
     "metadata": {},
     "output_type": "display_data"
    },
    {
     "data": {
      "application/vnd.jupyter.widget-view+json": {
       "model_id": "badc97135c47447f9815cb2488b7d1b4",
       "version_major": 2,
       "version_minor": 0
      },
      "text/plain": [
       "  0%|          | 0/339 [00:00<?, ?it/s]"
      ]
     },
     "metadata": {},
     "output_type": "display_data"
    },
    {
     "data": {
      "application/vnd.jupyter.widget-view+json": {
       "model_id": "a057757beb7342da90b7d7720fa6ba1b",
       "version_major": 2,
       "version_minor": 0
      },
      "text/plain": [
       "  0%|          | 0/339 [00:00<?, ?it/s]"
      ]
     },
     "metadata": {},
     "output_type": "display_data"
    },
    {
     "data": {
      "application/vnd.jupyter.widget-view+json": {
       "model_id": "54cc3003823e47949fb69df3039a3ae9",
       "version_major": 2,
       "version_minor": 0
      },
      "text/plain": [
       "  0%|          | 0/339 [00:00<?, ?it/s]"
      ]
     },
     "metadata": {},
     "output_type": "display_data"
    },
    {
     "data": {
      "application/vnd.jupyter.widget-view+json": {
       "model_id": "6f70def184b041ceb67a887df15b76c2",
       "version_major": 2,
       "version_minor": 0
      },
      "text/plain": [
       "  0%|          | 0/339 [00:00<?, ?it/s]"
      ]
     },
     "metadata": {},
     "output_type": "display_data"
    },
    {
     "name": "stdout",
     "output_type": "stream",
     "text": [
      "entered\n",
      "inversed\n",
      "transformed\n"
     ]
    },
    {
     "data": {
      "application/vnd.jupyter.widget-view+json": {
       "model_id": "42ef3514ce554916b9876b3aaa922412",
       "version_major": 2,
       "version_minor": 0
      },
      "text/plain": [
       "  0%|          | 0/339 [00:00<?, ?it/s]"
      ]
     },
     "metadata": {},
     "output_type": "display_data"
    },
    {
     "data": {
      "application/vnd.jupyter.widget-view+json": {
       "model_id": "de483c4ac7f54a0b8662a2d7680be475",
       "version_major": 2,
       "version_minor": 0
      },
      "text/plain": [
       "  0%|          | 0/339 [00:00<?, ?it/s]"
      ]
     },
     "metadata": {},
     "output_type": "display_data"
    },
    {
     "data": {
      "application/vnd.jupyter.widget-view+json": {
       "model_id": "1403193e535642938436cb008e7cfee1",
       "version_major": 2,
       "version_minor": 0
      },
      "text/plain": [
       "  0%|          | 0/339 [00:00<?, ?it/s]"
      ]
     },
     "metadata": {},
     "output_type": "display_data"
    },
    {
     "data": {
      "application/vnd.jupyter.widget-view+json": {
       "model_id": "6290bac614ce41c78a8e5730941360f6",
       "version_major": 2,
       "version_minor": 0
      },
      "text/plain": [
       "  0%|          | 0/339 [00:00<?, ?it/s]"
      ]
     },
     "metadata": {},
     "output_type": "display_data"
    },
    {
     "data": {
      "application/vnd.jupyter.widget-view+json": {
       "model_id": "a1ee7911037146aa8052379eb28a90da",
       "version_major": 2,
       "version_minor": 0
      },
      "text/plain": [
       "  0%|          | 0/339 [00:00<?, ?it/s]"
      ]
     },
     "metadata": {},
     "output_type": "display_data"
    },
    {
     "name": "stdout",
     "output_type": "stream",
     "text": [
      "entered\n",
      "inversed\n",
      "transformed\n"
     ]
    },
    {
     "data": {
      "application/vnd.jupyter.widget-view+json": {
       "model_id": "85dda58ced014d2c9d5ffef6f07ce40f",
       "version_major": 2,
       "version_minor": 0
      },
      "text/plain": [
       "  0%|          | 0/339 [00:00<?, ?it/s]"
      ]
     },
     "metadata": {},
     "output_type": "display_data"
    },
    {
     "data": {
      "application/vnd.jupyter.widget-view+json": {
       "model_id": "56bb29b0b4f547af94bd6776d4a1b063",
       "version_major": 2,
       "version_minor": 0
      },
      "text/plain": [
       "  0%|          | 0/339 [00:00<?, ?it/s]"
      ]
     },
     "metadata": {},
     "output_type": "display_data"
    },
    {
     "data": {
      "application/vnd.jupyter.widget-view+json": {
       "model_id": "aef57eef6f1c403fa91215c2b270f0b8",
       "version_major": 2,
       "version_minor": 0
      },
      "text/plain": [
       "  0%|          | 0/339 [00:00<?, ?it/s]"
      ]
     },
     "metadata": {},
     "output_type": "display_data"
    },
    {
     "data": {
      "application/vnd.jupyter.widget-view+json": {
       "model_id": "8577369059fd4e62adfb884e7d3836cc",
       "version_major": 2,
       "version_minor": 0
      },
      "text/plain": [
       "  0%|          | 0/339 [00:00<?, ?it/s]"
      ]
     },
     "metadata": {},
     "output_type": "display_data"
    },
    {
     "data": {
      "application/vnd.jupyter.widget-view+json": {
       "model_id": "d82a0493a0b34692b694788d1e7dc357",
       "version_major": 2,
       "version_minor": 0
      },
      "text/plain": [
       "  0%|          | 0/339 [00:00<?, ?it/s]"
      ]
     },
     "metadata": {},
     "output_type": "display_data"
    },
    {
     "name": "stdout",
     "output_type": "stream",
     "text": [
      "entered\n",
      "inversed\n",
      "transformed\n"
     ]
    },
    {
     "data": {
      "application/vnd.jupyter.widget-view+json": {
       "model_id": "f414a19224124a7e8aa219213a816a70",
       "version_major": 2,
       "version_minor": 0
      },
      "text/plain": [
       "  0%|          | 0/339 [00:00<?, ?it/s]"
      ]
     },
     "metadata": {},
     "output_type": "display_data"
    },
    {
     "data": {
      "application/vnd.jupyter.widget-view+json": {
       "model_id": "865269c6c4f944ac9ab6ee14b30d2b6b",
       "version_major": 2,
       "version_minor": 0
      },
      "text/plain": [
       "  0%|          | 0/339 [00:00<?, ?it/s]"
      ]
     },
     "metadata": {},
     "output_type": "display_data"
    },
    {
     "data": {
      "application/vnd.jupyter.widget-view+json": {
       "model_id": "de3b72f0fd1f4765a1e4ae4593fd5bd1",
       "version_major": 2,
       "version_minor": 0
      },
      "text/plain": [
       "  0%|          | 0/339 [00:00<?, ?it/s]"
      ]
     },
     "metadata": {},
     "output_type": "display_data"
    },
    {
     "ename": "KeyboardInterrupt",
     "evalue": "",
     "output_type": "error",
     "traceback": [
      "\u001b[1;31m---------------------------------------------------------------------------\u001b[0m",
      "\u001b[1;31mKeyboardInterrupt\u001b[0m                         Traceback (most recent call last)",
      "Cell \u001b[1;32mIn[14], line 12\u001b[0m\n\u001b[0;32m     10\u001b[0m result_mel, result_mel_post, result_stops \u001b[39m=\u001b[39m model(text, mel, mask_idx)\n\u001b[0;32m     11\u001b[0m loss_val \u001b[39m=\u001b[39m loss(mel[:, :, \u001b[39m1\u001b[39m:], result_mel[:, :, :\u001b[39m-\u001b[39m\u001b[39m1\u001b[39m], result_mel_post[:, :, :\u001b[39m-\u001b[39m\u001b[39m1\u001b[39m], stop[:, \u001b[39m1\u001b[39m:], result_stops[:, :\u001b[39m-\u001b[39m\u001b[39m1\u001b[39m])\n\u001b[1;32m---> 12\u001b[0m loss_val\u001b[39m.\u001b[39;49mbackward()\n\u001b[0;32m     13\u001b[0m nn\u001b[39m.\u001b[39mutils\u001b[39m.\u001b[39mclip_grad_norm(model\u001b[39m.\u001b[39mparameters(), \u001b[39m1.\u001b[39m)\n\u001b[0;32m     14\u001b[0m optimizer\u001b[39m.\u001b[39mstep()\n",
      "File \u001b[1;32md:\\mlp\\tacotron_2\\.venv\\lib\\site-packages\\torch\\_tensor.py:487\u001b[0m, in \u001b[0;36mTensor.backward\u001b[1;34m(self, gradient, retain_graph, create_graph, inputs)\u001b[0m\n\u001b[0;32m    477\u001b[0m \u001b[39mif\u001b[39;00m has_torch_function_unary(\u001b[39mself\u001b[39m):\n\u001b[0;32m    478\u001b[0m     \u001b[39mreturn\u001b[39;00m handle_torch_function(\n\u001b[0;32m    479\u001b[0m         Tensor\u001b[39m.\u001b[39mbackward,\n\u001b[0;32m    480\u001b[0m         (\u001b[39mself\u001b[39m,),\n\u001b[1;32m   (...)\u001b[0m\n\u001b[0;32m    485\u001b[0m         inputs\u001b[39m=\u001b[39minputs,\n\u001b[0;32m    486\u001b[0m     )\n\u001b[1;32m--> 487\u001b[0m torch\u001b[39m.\u001b[39;49mautograd\u001b[39m.\u001b[39;49mbackward(\n\u001b[0;32m    488\u001b[0m     \u001b[39mself\u001b[39;49m, gradient, retain_graph, create_graph, inputs\u001b[39m=\u001b[39;49minputs\n\u001b[0;32m    489\u001b[0m )\n",
      "File \u001b[1;32md:\\mlp\\tacotron_2\\.venv\\lib\\site-packages\\torch\\autograd\\__init__.py:200\u001b[0m, in \u001b[0;36mbackward\u001b[1;34m(tensors, grad_tensors, retain_graph, create_graph, grad_variables, inputs)\u001b[0m\n\u001b[0;32m    195\u001b[0m     retain_graph \u001b[39m=\u001b[39m create_graph\n\u001b[0;32m    197\u001b[0m \u001b[39m# The reason we repeat same the comment below is that\u001b[39;00m\n\u001b[0;32m    198\u001b[0m \u001b[39m# some Python versions print out the first line of a multi-line function\u001b[39;00m\n\u001b[0;32m    199\u001b[0m \u001b[39m# calls in the traceback and some print out the last line\u001b[39;00m\n\u001b[1;32m--> 200\u001b[0m Variable\u001b[39m.\u001b[39;49m_execution_engine\u001b[39m.\u001b[39;49mrun_backward(  \u001b[39m# Calls into the C++ engine to run the backward pass\u001b[39;49;00m\n\u001b[0;32m    201\u001b[0m     tensors, grad_tensors_, retain_graph, create_graph, inputs,\n\u001b[0;32m    202\u001b[0m     allow_unreachable\u001b[39m=\u001b[39;49m\u001b[39mTrue\u001b[39;49;00m, accumulate_grad\u001b[39m=\u001b[39;49m\u001b[39mTrue\u001b[39;49;00m)\n",
      "\u001b[1;31mKeyboardInterrupt\u001b[0m: "
     ]
    }
   ],
   "source": [
    "eval_step = 29430\n",
    "for epoch in range(86, NUM_EPOCHS):\n",
    "    model.train(True)\n",
    "    epoch_train_losses = [0]\n",
    "    for text, mel, stop, mask_idx in tqdm(dataloader):\n",
    "        optimizer.zero_grad()\n",
    "        text = text.to(DEVICE)\n",
    "        mel = mel.to(DEVICE)\n",
    "        stop = stop.to(DEVICE)\n",
    "        result_mel, result_mel_post, result_stops = model(text, mel, mask_idx)\n",
    "        loss_val = loss(mel[:, :, 1:], result_mel[:, :, :-1], result_mel_post[:, :, :-1], stop[:, 1:], result_stops[:, :-1])\n",
    "        loss_val.backward()\n",
    "        nn.utils.clip_grad_norm(model.parameters(), 1.)\n",
    "        optimizer.step()\n",
    "        epoch_train_losses.append(loss_val.cpu().detach().numpy())\n",
    "        writer.add_scalar('Loss/train', loss_val, eval_step)\n",
    "        writer.add_scalar('LR/train', optimizer.param_groups[0]['lr'], eval_step)\n",
    "        eval_step += 1\n",
    "\n",
    "    model.train(False)\n",
    "    if epoch%5==0:\n",
    "        sample_text = code_text(\"Привет! Это проверка генерации речи из текста! Поздравляю.\").to(DEVICE)\n",
    "        audio, stops, atention_context = model.predict(sample_text)\n",
    "        stops = nn.functional.sigmoid(stops)\n",
    "        transform = T.Compose([T.Resize(size=(1024, 1024)),T.RandomVerticalFlip(p=1), T.ToPILImage()])\n",
    "        image = np.array(transform(atention_context[stops.squeeze()<0.5].transpose(0, 2)))\n",
    "        writer.add_image(\n",
    "            \"alignment\",\n",
    "            image,\n",
    "            epoch, dataformats='HW')\n",
    "        stops = torch.zeros(stops.shape)\n",
    "        aud = reconstruct_audio(audio[0].detach(), stops[0].detach())\n",
    "        writer.add_audio(\"Model_results\", aud, sample_rate=hps.SAMPLE_RATE, global_step=epoch)\n",
    "        torch.save(model.state_dict(), f\"model_saves_clip/epoch_{epoch}_train_result\")\n",
    "        \n"
   ]
  },
  {
   "cell_type": "code",
   "execution_count": null,
   "metadata": {},
   "outputs": [
    {
     "data": {
      "text/plain": [
       "tensor(-4.6052, device='cuda:0')"
      ]
     },
     "execution_count": 25,
     "metadata": {},
     "output_type": "execute_result"
    }
   ],
   "source": [
    "mel.min()"
   ]
  },
  {
   "cell_type": "code",
   "execution_count": null,
   "metadata": {},
   "outputs": [],
   "source": []
  },
  {
   "cell_type": "code",
   "execution_count": null,
   "metadata": {},
   "outputs": [],
   "source": []
  },
  {
   "cell_type": "code",
   "execution_count": null,
   "metadata": {},
   "outputs": [
    {
     "data": {
      "text/plain": [
       "tensor(8.8776, device='cuda:0')"
      ]
     },
     "execution_count": 17,
     "metadata": {},
     "output_type": "execute_result"
    }
   ],
   "source": [
    "mel.max()"
   ]
  },
  {
   "cell_type": "code",
   "execution_count": 27,
   "metadata": {},
   "outputs": [
    {
     "data": {
      "text/plain": [
       "tensor(-4.6052)"
      ]
     },
     "execution_count": 27,
     "metadata": {},
     "output_type": "execute_result"
    }
   ],
   "source": [
    "torch.log(torch.tensor(1e-2))"
   ]
  },
  {
   "cell_type": "code",
   "execution_count": null,
   "metadata": {},
   "outputs": [],
   "source": []
  },
  {
   "cell_type": "code",
   "execution_count": null,
   "metadata": {},
   "outputs": [],
   "source": []
  },
  {
   "cell_type": "code",
   "execution_count": null,
   "metadata": {},
   "outputs": [],
   "source": []
  },
  {
   "cell_type": "code",
   "execution_count": null,
   "metadata": {},
   "outputs": [],
   "source": []
  },
  {
   "cell_type": "code",
   "execution_count": null,
   "metadata": {},
   "outputs": [],
   "source": []
  },
  {
   "cell_type": "code",
   "execution_count": null,
   "metadata": {},
   "outputs": [],
   "source": []
  }
 ],
 "metadata": {
  "kernelspec": {
   "display_name": ".venv",
   "language": "python",
   "name": "python3"
  },
  "language_info": {
   "codemirror_mode": {
    "name": "ipython",
    "version": 3
   },
   "file_extension": ".py",
   "mimetype": "text/x-python",
   "name": "python",
   "nbconvert_exporter": "python",
   "pygments_lexer": "ipython3",
   "version": "3.10.4"
  },
  "orig_nbformat": 4
 },
 "nbformat": 4,
 "nbformat_minor": 2
}
