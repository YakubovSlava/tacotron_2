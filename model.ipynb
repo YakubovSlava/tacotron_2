{
 "cells": [
  {
   "cell_type": "code",
   "execution_count": 1,
   "metadata": {},
   "outputs": [],
   "source": [
    "from utils.utils import TacotronPreprocessor, TTSDataset, collate_fn, reconstruct_audio, plot_alignment_to_numpy\n",
    "import pandas as pd\n",
    "import numpy as np\n",
    "import re\n",
    "import torch\n",
    "import torchaudio\n",
    "import torchaudio.functional as F\n",
    "from torch.utils.data import Dataset, DataLoader\n",
    "from torchaudio import transforms\n",
    "from torchaudio.functional import preemphasis\n",
    "import hyperparams as hps\n",
    "from torch.autograd import Variable\n",
    "from tqdm import tqdm_notebook as tqdm\n",
    "from torch.utils.tensorboard import SummaryWriter\n",
    "from IPython import display\n",
    "import matplotlib.pyplot as plt\n",
    "from torch.cuda.amp import GradScaler\n",
    "from torch import autocast"
   ]
  },
  {
   "cell_type": "code",
   "execution_count": 2,
   "metadata": {},
   "outputs": [],
   "source": [
    "import torch \n",
    "from torch import nn"
   ]
  },
  {
   "cell_type": "code",
   "execution_count": 3,
   "metadata": {},
   "outputs": [],
   "source": [
    "### Model"
   ]
  },
  {
   "cell_type": "code",
   "execution_count": 4,
   "metadata": {},
   "outputs": [],
   "source": [
    "class EncoderConvLayer(nn.Module):\n",
    "    def __init__(self, input_channels, output_channels, kernel_size) -> None:\n",
    "        super().__init__()\n",
    "        self.module = nn.Sequential(\n",
    "            nn.Conv1d(in_channels=input_channels, out_channels=output_channels, kernel_size=kernel_size, bias=False, padding=2, dilation=1),\n",
    "            nn.BatchNorm1d(output_channels),\n",
    "            nn.ReLU(),\n",
    "            nn.Dropout(0.5)\n",
    "        )\n",
    "    def forward(self, x):\n",
    "        return self.module(x)"
   ]
  },
  {
   "cell_type": "code",
   "execution_count": 5,
   "metadata": {},
   "outputs": [],
   "source": [
    "class Encoder(nn.Module):\n",
    "    def __init__(self, characters_num, embedding_size, lstm_hidden_size) -> None:\n",
    "        super().__init__()\n",
    "        self.char_embedding = nn.Embedding(characters_num, embedding_size)\n",
    "        self.conv_layers = nn.Sequential(\n",
    "            EncoderConvLayer(embedding_size, embedding_size, 5),\n",
    "            EncoderConvLayer(embedding_size, embedding_size, 5),\n",
    "            EncoderConvLayer(embedding_size, embedding_size, 5),\n",
    "        )\n",
    "        self.rnn = nn.LSTM(input_size=embedding_size,\n",
    "                           hidden_size=lstm_hidden_size,\n",
    "                           bidirectional=True, batch_first=True)\n",
    "        self.rnn_dropout = nn.Dropout(0.1)\n",
    "\n",
    "    \n",
    "    def forward(self, x: torch.tensor, mask_idx=None):\n",
    "        \"\"\"\n",
    "        На вход подается последовательность символов. Размерность [BATCH_SIZE, NUM_CHARACTERS]\n",
    "        \"\"\"\n",
    "        x = self.char_embedding(x)  #[BATCH_SIZE, NUM_CHARACTERS, EMB_SIZE]\n",
    "        x = x.transpose(1,2) #[BATCH_SIZE, EMB_SIZE, NUM_CHARACTERS]\n",
    "        x = self.conv_layers(x)\n",
    "        x = x.transpose(1,2) #[BATCH_SIZE, NUM_CHARACTERS, CONV_EMB]\n",
    "\n",
    "        if mask_idx is not None:\n",
    "            x = nn.utils.rnn.pack_padded_sequence(x, mask_idx, batch_first=True, enforce_sorted=False)   \n",
    "        x = self.rnn(x)[0]\n",
    "        if mask_idx is not None:   \n",
    "            x, _ = nn.utils.rnn.pad_packed_sequence(x, batch_first=True)\n",
    "        x = self.rnn_dropout(x)\n",
    "        return x"
   ]
  },
  {
   "cell_type": "code",
   "execution_count": 6,
   "metadata": {},
   "outputs": [],
   "source": [
    "class PreNet(nn.Module):\n",
    "    def __init__(self, num_mels, prenet_hidden_dim) -> None:\n",
    "        super().__init__()\n",
    "        self.module = nn.Sequential(\n",
    "            nn.Linear(num_mels, prenet_hidden_dim),\n",
    "            nn.ReLU(),\n",
    "            nn.Dropout(0.5),\n",
    "            nn.Linear(prenet_hidden_dim, prenet_hidden_dim),\n",
    "            nn.ReLU(),\n",
    "            nn.Dropout(0.5)\n",
    "        )\n",
    "    def forward(self, x):\n",
    "        x = self.module(x)\n",
    "        return x\n",
    "        "
   ]
  },
  {
   "cell_type": "code",
   "execution_count": 7,
   "metadata": {},
   "outputs": [],
   "source": [
    "### Самая сложная часть модели\n",
    "class Tacotron2Attention(nn.Module):\n",
    "    def __init__(self) -> None:\n",
    "        super().__init__()\n",
    "\n",
    "        self.location = nn.Conv1d(in_channels=1, out_channels=hps.ATTENTION_LOCATION_FILTERS, \n",
    "                                  kernel_size=hps.ATTENTION_LOCATION_KERNEL_SIZE, dilation=1, padding=((hps.ATTENTION_LOCATION_KERNEL_SIZE-1)//2), bias=False)\n",
    "        self.location_linear = nn.Linear(hps.ATTENTION_LOCATION_FILTERS, hps.ATTENTION_DIM, bias=False)\n",
    "        self.rnn_hs_linear = nn.Linear(hps.DECODER_RNN_HIDDEN_DIM * 2, hps.ATTENTION_DIM, bias=False)\n",
    "\n",
    "        self.alignments_linear = nn.Linear(hps.ATTENTION_DIM, 1, bias=False)\n",
    "        self.softmax = nn.Softmax(dim=1)\n",
    "        self.dropout = nn.Dropout(0.5)\n",
    "\n",
    "    def forward(self, rnn_hs, encoder_output, processed_encoder_output, location_attention, mask=None):\n",
    "        \"\"\"\n",
    "         На вход подсчета аттеншна передаются:\n",
    "            - Накопленная информация из РНН \n",
    "            - Выход энкодера (BS, seq_len, 2*encoder_lstm_dim)\n",
    "            - Прогнанный через линейный слой энкодер (чтобы не дублить операцию)\n",
    "            - commulative-attention (BS, 1, seq_len)\n",
    "        \"\"\"\n",
    "\n",
    "        ### Location attention\n",
    "        #   Логика:\n",
    "        #   Входящий вектор на каждую букву прогоняем через свертку таким образом, чтобы у нас на каждую букву было 32 значения, которые будут говорить о том, что данная буква уже встретилась в выданном аудио\n",
    "        location_attention = location_attention.transpose(1,2) # [BS, seq_len, 1]\n",
    "        location_attention = self.location(location_attention) # [BS, seq_len, Location_attention_filters]\n",
    "        location_attention = self.dropout(location_attention)\n",
    "        location_attention = location_attention.transpose(1,2) # [BS, seq_len, Location_attention_filters]\n",
    "        location_attention = self.location_linear(location_attention) # [BS, seq_len, attention_dim]\n",
    "\n",
    "        rnn_hs = torch.cat((rnn_hs[0], rnn_hs[1]), 1) # [BS, 2 * DECODER_RNN_HIDDEN_DIM]\n",
    "        rnn_hs = rnn_hs.unsqueeze(1) # [BS, 1, 2 * DECODER_RNN_HIDDEN_DIM]\n",
    "        rnn_hs = self.rnn_hs_linear(rnn_hs) # [BS, 1, Attention_dim]\n",
    "        alignments = nn.functional.tanh(rnn_hs + location_attention + processed_encoder_output) # (BS, seq_len, Attention_dim)\n",
    "        alignments = self.alignments_linear(alignments) # (BS, seq_len, 1)\n",
    "\n",
    "\n",
    "        if mask is not None:\n",
    "            alignments.data.masked_fill_(~mask.unsqueeze(-1), -torch.inf)\n",
    "        alignments = self.softmax(alignments) # (BS, seq_len, 1)\n",
    "\n",
    "        attention_score = (encoder_output.transpose(1, 2) @ alignments).transpose(1, 2)\n",
    "\n",
    "        \n",
    "\n",
    "        \n",
    "        return  attention_score, alignments\n",
    "\n"
   ]
  },
  {
   "cell_type": "code",
   "execution_count": 8,
   "metadata": {},
   "outputs": [],
   "source": [
    "class DecoderPostNetConv(nn.Module):\n",
    "    def __init__(self, in_kernels, out_kernels, last_layer=False) -> None:\n",
    "        super().__init__()\n",
    "        self.last_layer = last_layer\n",
    "        self.post_net = nn.Sequential(\n",
    "            nn.Conv1d(in_kernels, out_kernels, hps.POSTNET_KERNEL_SIZE, padding=2, bias=False, dilation=1),\n",
    "            nn.BatchNorm1d(hps.POSTNET_NUM_FILTERS),\n",
    "            nn.Identity() if last_layer else nn.Tanh(),\n",
    "            nn.Dropout(0.5),\n",
    "        )\n",
    "    def forward(self, x):\n",
    "        return self.post_net(x)"
   ]
  },
  {
   "cell_type": "code",
   "execution_count": 9,
   "metadata": {},
   "outputs": [],
   "source": [
    "class Decoder(nn.Module):\n",
    "    def __init__(self) -> None:\n",
    "        super().__init__()\n",
    "        self.prenet = PreNet(hps.N_MEL_FILTERBANKS, hps.PRENET_HIDDEN_SIZE)\n",
    "        self.encoder_linear = nn.Linear(hps.LSTM_HIDDEN_SIZE * 2, hps.ATTENTION_DIM)\n",
    "        self.decoder_rnn = nn.LSTM(input_size=hps.PRENET_HIDDEN_SIZE + hps.CHARACTER_EMB_SIZE, \n",
    "                                   hidden_size=hps.DECODER_RNN_HIDDEN_DIM, batch_first=True, num_layers=2)\n",
    "        self.attention = Tacotron2Attention()\n",
    "        self.linear_projection = nn.Linear(hps.DECODER_RNN_HIDDEN_DIM + hps.CHARACTER_EMB_SIZE, hps.N_MEL_FILTERBANKS)\n",
    "        self.stop_projection = nn.Linear(hps.DECODER_RNN_HIDDEN_DIM + hps.CHARACTER_EMB_SIZE, 1)\n",
    "\n",
    "        self.post_net = nn.Sequential(\n",
    "            DecoderPostNetConv(hps.N_MEL_FILTERBANKS, hps.POSTNET_NUM_FILTERS, hps.POSTNET_NUM_FILTERS),\n",
    "            DecoderPostNetConv(hps.POSTNET_NUM_FILTERS, hps.POSTNET_NUM_FILTERS),\n",
    "            DecoderPostNetConv(hps.POSTNET_NUM_FILTERS, hps.POSTNET_NUM_FILTERS),\n",
    "            DecoderPostNetConv(hps.POSTNET_NUM_FILTERS, hps.POSTNET_NUM_FILTERS),\n",
    "            DecoderPostNetConv(hps.POSTNET_NUM_FILTERS, hps.POSTNET_NUM_FILTERS, last_layer=True)\n",
    "        )\n",
    "        self.post_linear = nn.Linear(hps.POSTNET_NUM_FILTERS, hps.N_MEL_FILTERBANKS)\n",
    "        self.dropout = nn.Dropout(0.1)\n",
    "\n",
    "        \n",
    "    \n",
    "    def forward(self, mels, encoder_output, mask):\n",
    "        mels = mels.transpose(1,2)\n",
    "        mels = self.prenet(mels)\n",
    "        processed_encoder = self.encoder_linear(encoder_output)\n",
    "\n",
    "\n",
    "        next_h = torch.zeros(2, mels.shape[0], hps.DECODER_RNN_HIDDEN_DIM, device=mels.device)\n",
    "        next_c = torch.zeros(2, mels.shape[0], hps.DECODER_RNN_HIDDEN_DIM, device=mels.device)\n",
    "\n",
    "        mel_predictions = []\n",
    "        stop_tokens = []\n",
    "        curr_attention_context = torch.zeros(encoder_output.shape[0], 1, hps.CHARACTER_EMB_SIZE, device=mels.device)\n",
    "        cummulated_attention = torch.zeros(encoder_output.shape[0], encoder_output.shape[1], 1, device=mels.device)\n",
    "\n",
    "        next_h.requires_grad = True\n",
    "        next_c.requires_grad = True\n",
    "        curr_attention_context.requires_grad = True\n",
    "        cummulated_attention.requires_grad = True\n",
    "\n",
    "\n",
    "\n",
    "\n",
    "        for i in range(mels.shape[1]):\n",
    "            curr_mel = mels[:, i, :].unsqueeze(1)\n",
    "            curr_rnn_input = torch.cat((curr_mel, curr_attention_context), dim=-1)\n",
    "            next_mel, (next_h, next_c) = self.decoder_rnn(curr_rnn_input, (next_h, next_c))\n",
    "            next_mel = self.dropout(next_mel)\n",
    "            curr_attention_context, alignments = self.attention(next_h, encoder_output, processed_encoder, cummulated_attention, mask)\n",
    "            cummulated_attention = cummulated_attention + alignments\n",
    "            next_mel_inp = torch.cat((next_mel, curr_attention_context), dim=2)\n",
    "            next_mel = self.linear_projection(next_mel_inp)\n",
    "            next_stop = self.stop_projection(next_mel_inp).squeeze(1)\n",
    "            mel_predictions.append(next_mel)\n",
    "            stop_tokens.append(next_stop)\n",
    "\n",
    "        result_mel = torch.cat(mel_predictions, dim=1)\n",
    "        result_stops = torch.cat(stop_tokens, dim=1)\n",
    "        result_mel = result_mel.transpose(1, 2)\n",
    "        result_mel_post = self.post_net(result_mel)\n",
    "        result_mel_post = result_mel_post.transpose(1,2)\n",
    "        result_mel_post = self.post_linear(result_mel_post)\n",
    "        result_mel_post = result_mel_post.transpose(1,2)\n",
    "        result_mel_post = result_mel + result_mel_post\n",
    "        \n",
    "        \n",
    "        return result_mel, result_mel_post, result_stops\n",
    "    \n",
    "    def predict(self, encoder_output):\n",
    "        mels = torch.log(torch.clamp(torch.zeros(encoder_output.shape[0], 1, hps.N_MEL_FILTERBANKS, device=encoder_output.device), hps.CLIPMIN))\n",
    "        mels = self.prenet(mels)\n",
    "        processed_encoder = self.encoder_linear(encoder_output)\n",
    "\n",
    "\n",
    "        next_h = torch.zeros(2, mels.shape[0], hps.DECODER_RNN_HIDDEN_DIM, device=mels.device)\n",
    "        next_c = torch.zeros(2, mels.shape[0], hps.DECODER_RNN_HIDDEN_DIM, device=mels.device)\n",
    "\n",
    "        mel_predictions = []\n",
    "        mel_predictions_post = []\n",
    "        stop_tokens = []\n",
    "        attentions = []\n",
    "\n",
    "        curr_attention_context = torch.zeros(encoder_output.shape[0], 1, hps.CHARACTER_EMB_SIZE, device=mels.device)\n",
    "        cummulated_attention = torch.zeros(encoder_output.shape[0], encoder_output.shape[1], 1, device=mels.device)\n",
    "\n",
    "        next_h.requires_grad = True\n",
    "        next_c.requires_grad = True\n",
    "        curr_attention_context.requires_grad = True\n",
    "        cummulated_attention.requires_grad = True\n",
    "\n",
    "\n",
    "        for i in range(1500):\n",
    "            curr_mel = mels\n",
    "            curr_rnn_input = torch.cat((curr_mel, curr_attention_context), dim=-1)\n",
    "            next_mel, (next_h, next_c) = self.decoder_rnn(curr_rnn_input, (next_h, next_c))\n",
    "            curr_attention_context, alignments = self.attention(next_h, encoder_output, processed_encoder, cummulated_attention)\n",
    "            cummulated_attention = cummulated_attention + alignments\n",
    "            next_mel_inp = torch.cat((next_mel, curr_attention_context), dim=2)\n",
    "            next_mel = self.linear_projection(next_mel_inp)\n",
    "\n",
    "            next_mel_post = self.post_net(next_mel.transpose(1,2)).transpose(1,2)\n",
    "            next_mel_post = self.post_linear(next_mel_post)\n",
    "            next_mel_post = next_mel_post + next_mel\n",
    "            mels = self.prenet(next_mel_post)\n",
    "\n",
    "            next_stop = self.stop_projection(next_mel_inp).squeeze(1)\n",
    "            mel_predictions.append(next_mel)\n",
    "            mel_predictions_post.append(next_mel_post)\n",
    "            stop_tokens.append(next_stop)\n",
    "            attentions.append(alignments)\n",
    "\n",
    "        \n",
    "        attention = torch.cat(attentions, dim=1)\n",
    "        result_mel = torch.cat(mel_predictions, dim=1)\n",
    "        result_mel_post = torch.cat(mel_predictions_post, dim=1)\n",
    "        result_stops = torch.cat(stop_tokens, dim=1)\n",
    "\n",
    "        return result_mel_post.transpose(1,2), result_stops, attention"
   ]
  },
  {
   "cell_type": "code",
   "execution_count": 10,
   "metadata": {},
   "outputs": [],
   "source": [
    "class Tacotron2(nn.Module):\n",
    "    def __init__(self, characters_num: int = 0) -> None:\n",
    "        super().__init__()\n",
    "        self.characters_num = characters_num\n",
    "        self.encoder = Encoder(characters_num, hps.CHARACTER_EMB_SIZE, hps.LSTM_HIDDEN_SIZE)\n",
    "        self.decoder = Decoder()\n",
    "\n",
    "    def get_mask(self, mask_idx):\n",
    "        mask = torch.zeros(mask_idx.shape[0], max(mask_idx))\n",
    "        mask = ((torch.arange(0, max(mask_idx)).unsqueeze(1)<torch.tensor(mask_idx))).transpose(0,1)\n",
    "        return mask\n",
    "\n",
    "    def forward(self, text, mels, mask_idx):\n",
    "        encoder_output = self.encoder(text, torch.tensor(mask_idx))\n",
    "        mask = self.get_mask(torch.tensor(mask_idx))\n",
    "        mask = mask.to(encoder_output.device)\n",
    "        decoder_output = self.decoder(mels, encoder_output, mask)\n",
    "        return decoder_output\n",
    "    \n",
    "    def predict(self, text):\n",
    "        encoder_output = self.encoder(text)\n",
    "        decoder_output = self.decoder.predict(encoder_output)\n",
    "        return decoder_output"
   ]
  },
  {
   "cell_type": "code",
   "execution_count": 11,
   "metadata": {},
   "outputs": [],
   "source": [
    "class Tacotron2Loss(nn.Module):\n",
    "    def __init__(self) -> None:\n",
    "        super().__init__()\n",
    "        self.mse_loss = nn.MSELoss()\n",
    "        self.bce_loss = nn.BCEWithLogitsLoss()\n",
    "    def forward(self, mel_true, mel_pred, mel_pred_post, stops, stops_pred):\n",
    "        mel_loss = self.mse_loss(mel_pred, mel_true) + self.mse_loss(mel_pred_post, mel_true)\n",
    "        stop_loss = self.bce_loss(stops_pred, stops)\n",
    "        return mel_loss + stop_loss"
   ]
  },
  {
   "cell_type": "code",
   "execution_count": 12,
   "metadata": {},
   "outputs": [],
   "source": [
    "BATCH_SIZE = 32\n",
    "dataset = TTSDataset()\n",
    "dataloader = DataLoader(dataset, BATCH_SIZE, collate_fn=collate_fn, shuffle=True,\n",
    "                         num_workers=4\n",
    "                         )\n",
    "DEVICE = 'cuda' if torch.cuda.is_available() else 'cpu'\n",
    "NUM_EPOCHS = 300\n",
    "vocab_size = dataset.preprocessor.vocab.shape[0] + 1\n",
    "loss = Tacotron2Loss()\n",
    "model = Tacotron2(vocab_size).to(DEVICE)\n",
    "model.load_state_dict(torch.load('model_saves\\epoch_140_train_result'))\n",
    "optimizer = torch.optim.Adam(model.parameters(), lr = 4e-5, weight_decay=1e-6)\n",
    "scaler = GradScaler()\n",
    "# scheduler = torch.optim.lr_scheduler.ExponentialLR(optimizer, gamma = 0.5)\n",
    "writer = SummaryWriter()\n"
   ]
  },
  {
   "cell_type": "code",
   "execution_count": 13,
   "metadata": {},
   "outputs": [],
   "source": [
    "def code_text(text):\n",
    "    text = dataset.preprocessor.transform_single_text(text)\n",
    "    text = torch.tensor(text).unsqueeze(0)\n",
    "    return text"
   ]
  },
  {
   "cell_type": "code",
   "execution_count": 14,
   "metadata": {},
   "outputs": [
    {
     "name": "stderr",
     "output_type": "stream",
     "text": [
      "C:\\Users\\yakub\\AppData\\Local\\Temp\\ipykernel_4536\\1502103689.py:5: TqdmDeprecationWarning: This function will be removed in tqdm==5.0.0\n",
      "Please use `tqdm.notebook.tqdm` instead of `tqdm.tqdm_notebook`\n",
      "  for text, mel, stop, mask_idx in tqdm(dataloader):\n"
     ]
    },
    {
     "data": {
      "application/vnd.jupyter.widget-view+json": {
       "model_id": "32cff53294e4409b9572d91f0f1e9c39",
       "version_major": 2,
       "version_minor": 0
      },
      "text/plain": [
       "  0%|          | 0/509 [00:00<?, ?it/s]"
      ]
     },
     "metadata": {},
     "output_type": "display_data"
    },
    {
     "name": "stderr",
     "output_type": "stream",
     "text": [
      "C:\\Users\\yakub\\AppData\\Local\\Temp\\ipykernel_4536\\3789512340.py:10: UserWarning: To copy construct from a tensor, it is recommended to use sourceTensor.clone().detach() or sourceTensor.clone().detach().requires_grad_(True), rather than torch.tensor(sourceTensor).\n",
      "  mask = ((torch.arange(0, max(mask_idx)).unsqueeze(1)<torch.tensor(mask_idx))).transpose(0,1)\n",
      "C:\\Users\\yakub\\AppData\\Local\\Temp\\ipykernel_4536\\1502103689.py:13: UserWarning: torch.nn.utils.clip_grad_norm is now deprecated in favor of torch.nn.utils.clip_grad_norm_.\n",
      "  nn.utils.clip_grad_norm(model.parameters(), 1.)\n"
     ]
    },
    {
     "name": "stdout",
     "output_type": "stream",
     "text": [
      "entered\n",
      "inversed\n",
      "transformed\n"
     ]
    },
    {
     "data": {
      "application/vnd.jupyter.widget-view+json": {
       "model_id": "a9a5b2eafa0b4d46a32d32295fad2e7d",
       "version_major": 2,
       "version_minor": 0
      },
      "text/plain": [
       "  0%|          | 0/509 [00:00<?, ?it/s]"
      ]
     },
     "metadata": {},
     "output_type": "display_data"
    },
    {
     "data": {
      "application/vnd.jupyter.widget-view+json": {
       "model_id": "4ba46846f4944f05b362abc16f479ab4",
       "version_major": 2,
       "version_minor": 0
      },
      "text/plain": [
       "  0%|          | 0/509 [00:00<?, ?it/s]"
      ]
     },
     "metadata": {},
     "output_type": "display_data"
    },
    {
     "data": {
      "application/vnd.jupyter.widget-view+json": {
       "model_id": "2bb1e28ff53343b593962b9ce46614eb",
       "version_major": 2,
       "version_minor": 0
      },
      "text/plain": [
       "  0%|          | 0/509 [00:00<?, ?it/s]"
      ]
     },
     "metadata": {},
     "output_type": "display_data"
    },
    {
     "data": {
      "application/vnd.jupyter.widget-view+json": {
       "model_id": "4255e08b75954ff89b41a3e38089eeb6",
       "version_major": 2,
       "version_minor": 0
      },
      "text/plain": [
       "  0%|          | 0/509 [00:00<?, ?it/s]"
      ]
     },
     "metadata": {},
     "output_type": "display_data"
    },
    {
     "data": {
      "application/vnd.jupyter.widget-view+json": {
       "model_id": "f09d87cfc17e44919ee1de0920f27530",
       "version_major": 2,
       "version_minor": 0
      },
      "text/plain": [
       "  0%|          | 0/509 [00:00<?, ?it/s]"
      ]
     },
     "metadata": {},
     "output_type": "display_data"
    },
    {
     "name": "stdout",
     "output_type": "stream",
     "text": [
      "entered\n",
      "inversed\n",
      "transformed\n"
     ]
    },
    {
     "data": {
      "application/vnd.jupyter.widget-view+json": {
       "model_id": "0709f6bcae954a129bb7344e9473f2de",
       "version_major": 2,
       "version_minor": 0
      },
      "text/plain": [
       "  0%|          | 0/509 [00:00<?, ?it/s]"
      ]
     },
     "metadata": {},
     "output_type": "display_data"
    }
   ],
   "source": [
    "eval_step = 53960\n",
    "for epoch in range(140, NUM_EPOCHS):\n",
    "    model.train(True)\n",
    "    epoch_train_losses = [0]\n",
    "    for text, mel, stop, mask_idx in tqdm(dataloader):\n",
    "        optimizer.zero_grad()\n",
    "        text = text.to(DEVICE)\n",
    "        mel = mel.to(DEVICE)\n",
    "        stop = stop.to(DEVICE)\n",
    "        result_mel, result_mel_post, result_stops = model(text, mel, mask_idx)\n",
    "        loss_val = loss(mel[:, :, 1:], result_mel[:, :, :-1], result_mel_post[:, :, :-1], stop[:, 1:], result_stops[:, :-1])\n",
    "        loss_val.backward()\n",
    "        nn.utils.clip_grad_norm(model.parameters(), 1.)\n",
    "        optimizer.step()\n",
    "        epoch_train_losses.append(loss_val.cpu().detach().numpy())\n",
    "        writer.add_scalar('Loss/train', loss_val, eval_step)\n",
    "        writer.add_scalar('LR/train', optimizer.param_groups[0]['lr'], eval_step)\n",
    "        eval_step += 1\n",
    "\n",
    "    model.train(False)\n",
    "    if epoch%5==0:\n",
    "        sample_text = code_text(\"Привет! Это проверка генерации речи из текста!\").to(DEVICE)\n",
    "        audio, stops, atention_context = model.predict(sample_text)\n",
    "        stops = nn.functional.sigmoid(stops)\n",
    "        stops = (stops>1).int()\n",
    "        stops[0] = 0\n",
    "        aud = reconstruct_audio(audio[0].detach(), stops[0].detach())\n",
    "        writer.add_audio(\"Model_results\", aud, sample_rate=hps.SAMPLE_RATE, global_step=epoch)\n",
    "        image = plot_alignment_to_numpy(atention_context[0].detach().cpu().T)\n",
    "        writer.add_image(\n",
    "            \"alignment\",\n",
    "            image,\n",
    "            epoch, dataformats='HWC')\n",
    "        torch.save(model.state_dict(), f\"model_saves/epoch_{epoch}_train_result\")\n",
    "        \n"
   ]
  },
  {
   "cell_type": "code",
   "execution_count": null,
   "metadata": {},
   "outputs": [],
   "source": []
  },
  {
   "cell_type": "code",
   "execution_count": null,
   "metadata": {},
   "outputs": [],
   "source": []
  },
  {
   "cell_type": "code",
   "execution_count": null,
   "metadata": {},
   "outputs": [],
   "source": []
  }
 ],
 "metadata": {
  "kernelspec": {
   "display_name": ".venv",
   "language": "python",
   "name": "python3"
  },
  "language_info": {
   "codemirror_mode": {
    "name": "ipython",
    "version": 3
   },
   "file_extension": ".py",
   "mimetype": "text/x-python",
   "name": "python",
   "nbconvert_exporter": "python",
   "pygments_lexer": "ipython3",
   "version": "3.10.4"
  },
  "orig_nbformat": 4
 },
 "nbformat": 4,
 "nbformat_minor": 2
}
